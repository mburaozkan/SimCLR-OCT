{
 "cells": [
  {
   "cell_type": "code",
   "execution_count": 1,
   "id": "bd573ec2-b96f-400a-b93e-096fe6ce09e1",
   "metadata": {},
   "outputs": [
    {
     "ename": "ModuleNotFoundError",
     "evalue": "No module named 'OCT'",
     "output_type": "error",
     "traceback": [
      "\u001b[0;31m---------------------------------------------------------------------------\u001b[0m",
      "\u001b[0;31mModuleNotFoundError\u001b[0m                       Traceback (most recent call last)",
      "Cell \u001b[0;32mIn[1], line 4\u001b[0m\n\u001b[1;32m      2\u001b[0m \u001b[38;5;28;01mimport\u001b[39;00m \u001b[38;5;21;01mtorch\u001b[39;00m\n\u001b[1;32m      3\u001b[0m \u001b[38;5;28;01mimport\u001b[39;00m \u001b[38;5;21;01mtime\u001b[39;00m\n\u001b[0;32m----> 4\u001b[0m \u001b[38;5;28;01mfrom\u001b[39;00m \u001b[38;5;21;01mmain_supcon\u001b[39;00m \u001b[38;5;28;01mimport\u001b[39;00m parse_option, set_loader, set_model, train, adjust_learning_rate, save_model, set_optimizer\n\u001b[1;32m      5\u001b[0m \u001b[38;5;66;03m# You might need to append the script directory to sys.path if it's not in the same directory as the notebook\u001b[39;00m\n\u001b[1;32m      6\u001b[0m \u001b[38;5;28;01mimport\u001b[39;00m \u001b[38;5;21;01msys\u001b[39;00m\n",
      "File \u001b[0;32m/app/SimCLR-OCT/main_supcon.py:14\u001b[0m\n\u001b[1;32m     11\u001b[0m \u001b[38;5;28;01mimport\u001b[39;00m \u001b[38;5;21;01mtorch\u001b[39;00m\u001b[38;5;21;01m.\u001b[39;00m\u001b[38;5;21;01mbackends\u001b[39;00m\u001b[38;5;21;01m.\u001b[39;00m\u001b[38;5;21;01mcudnn\u001b[39;00m \u001b[38;5;28;01mas\u001b[39;00m \u001b[38;5;21;01mcudnn\u001b[39;00m\n\u001b[1;32m     12\u001b[0m \u001b[38;5;28;01mfrom\u001b[39;00m \u001b[38;5;21;01mtorchvision\u001b[39;00m \u001b[38;5;28;01mimport\u001b[39;00m transforms, datasets\n\u001b[0;32m---> 14\u001b[0m \u001b[38;5;28;01mfrom\u001b[39;00m \u001b[38;5;21;01mOCT\u001b[39;00m\u001b[38;5;21;01m.\u001b[39;00m\u001b[38;5;21;01moct\u001b[39;00m \u001b[38;5;28;01mimport\u001b[39;00m OCTDataset\n\u001b[1;32m     15\u001b[0m \u001b[38;5;28;01mfrom\u001b[39;00m \u001b[38;5;21;01mutil\u001b[39;00m \u001b[38;5;28;01mimport\u001b[39;00m TwoCropTransform, AverageMeter\n\u001b[1;32m     16\u001b[0m \u001b[38;5;28;01mfrom\u001b[39;00m \u001b[38;5;21;01mutil\u001b[39;00m \u001b[38;5;28;01mimport\u001b[39;00m adjust_learning_rate, warmup_learning_rate\n",
      "\u001b[0;31mModuleNotFoundError\u001b[0m: No module named 'OCT'"
     ]
    }
   ],
   "source": [
    "# Import necessary standard libraries and any specific functions or classes from your script\n",
    "import torch\n",
    "import time\n",
    "from main_supcon import parse_option, set_loader, set_model, train, adjust_learning_rate, save_model, set_optimizer\n",
    "# You might need to append the script directory to sys.path if it's not in the same directory as the notebook\n",
    "import sys\n",
    "# sys.path.append('/path/to/your/script/directory')"
   ]
  },
  {
   "cell_type": "code",
   "execution_count": 2,
   "id": "24eb6880-b5ba-48b4-b8ce-a1d1c333279f",
   "metadata": {},
   "outputs": [
    {
     "ename": "NameError",
     "evalue": "name 'sys' is not defined",
     "output_type": "error",
     "traceback": [
      "\u001b[0;31m---------------------------------------------------------------------------\u001b[0m",
      "\u001b[0;31mNameError\u001b[0m                                 Traceback (most recent call last)",
      "Cell \u001b[0;32mIn[2], line 4\u001b[0m\n\u001b[1;32m      1\u001b[0m \u001b[38;5;28;01mimport\u001b[39;00m \u001b[38;5;21;01margparse\u001b[39;00m\n\u001b[1;32m      3\u001b[0m \u001b[38;5;66;03m# Simulate command-line arguments, if necessary\u001b[39;00m\n\u001b[0;32m----> 4\u001b[0m \u001b[43msys\u001b[49m\u001b[38;5;241m.\u001b[39margv \u001b[38;5;241m=\u001b[39m [\u001b[38;5;124m'\u001b[39m\u001b[38;5;124mmain_supcon.py\u001b[39m\u001b[38;5;124m'\u001b[39m, \u001b[38;5;124m'\u001b[39m\u001b[38;5;124m--batch_size\u001b[39m\u001b[38;5;124m'\u001b[39m, \u001b[38;5;124m'\u001b[39m\u001b[38;5;124m128\u001b[39m\u001b[38;5;124m'\u001b[39m, \u001b[38;5;124m'\u001b[39m\u001b[38;5;124m--dataset\u001b[39m\u001b[38;5;124m'\u001b[39m, \u001b[38;5;124m'\u001b[39m\u001b[38;5;124moct\u001b[39m\u001b[38;5;124m'\u001b[39m, \u001b[38;5;124m'\u001b[39m\u001b[38;5;124m--epochs\u001b[39m\u001b[38;5;124m'\u001b[39m, \u001b[38;5;124m'\u001b[39m\u001b[38;5;124m10\u001b[39m\u001b[38;5;124m'\u001b[39m]\n\u001b[1;32m      5\u001b[0m \u001b[38;5;66;03m# Parse options\u001b[39;00m\n\u001b[1;32m      6\u001b[0m opt \u001b[38;5;241m=\u001b[39m parse_option()\n",
      "\u001b[0;31mNameError\u001b[0m: name 'sys' is not defined"
     ]
    }
   ],
   "source": [
    "import argparse\n",
    "\n",
    "# Simulate command-line arguments, if necessary\n",
    "sys.argv = ['main_supcon.py', '--batch_size', '128', '--dataset', 'oct', '--epochs', '10']\n",
    "# Parse options\n",
    "opt = parse_option()"
   ]
  },
  {
   "cell_type": "code",
   "execution_count": 3,
   "id": "ea8a6cb5-8cc6-4c8a-9734-c61f8fa538bf",
   "metadata": {},
   "outputs": [
    {
     "ename": "NameError",
     "evalue": "name 'set_loader' is not defined",
     "output_type": "error",
     "traceback": [
      "\u001b[0;31m---------------------------------------------------------------------------\u001b[0m",
      "\u001b[0;31mNameError\u001b[0m                                 Traceback (most recent call last)",
      "Cell \u001b[0;32mIn[3], line 1\u001b[0m\n\u001b[0;32m----> 1\u001b[0m train_loader \u001b[38;5;241m=\u001b[39m \u001b[43mset_loader\u001b[49m(opt)\n\u001b[1;32m      2\u001b[0m model, criterion \u001b[38;5;241m=\u001b[39m set_model(opt)\n\u001b[1;32m      3\u001b[0m optimizer \u001b[38;5;241m=\u001b[39m set_optimizer(opt, model)\n",
      "\u001b[0;31mNameError\u001b[0m: name 'set_loader' is not defined"
     ]
    }
   ],
   "source": [
    "train_loader = set_loader(opt)\n",
    "model, criterion = set_model(opt)\n",
    "optimizer = set_optimizer(opt, model)"
   ]
  },
  {
   "cell_type": "code",
   "execution_count": null,
   "id": "956fc53d-ffc6-4c31-9aca-683d15d15cc2",
   "metadata": {},
   "outputs": [],
   "source": [
    "for epoch in range(1, opt.epochs + 1):\n",
    "    adjust_learning_rate(opt, optimizer, epoch)\n",
    "\n",
    "    # Train for one epoch\n",
    "    time1 = time.time()\n",
    "    loss = train(train_loader, model, criterion, optimizer, epoch, opt)\n",
    "    time2 = time.time()\n",
    "    print('Epoch {}, total time {:.2f}, loss {:.4f}'.format(epoch, time2 - time1, loss))\n",
    "\n",
    "    # Save models periodically\n",
    "    if epoch % opt.save_freq == 0 or epoch == opt.epochs:\n",
    "        save_file = os.path.join(opt.save_folder, f'ckpt_epoch_{epoch}.pth')\n",
    "        save_model(model, optimizer, opt, epoch, save_file)"
   ]
  }
 ],
 "metadata": {
  "kernelspec": {
   "display_name": "Python 3 (ipykernel)",
   "language": "python",
   "name": "python3"
  },
  "language_info": {
   "codemirror_mode": {
    "name": "ipython",
    "version": 3
   },
   "file_extension": ".py",
   "mimetype": "text/x-python",
   "name": "python",
   "nbconvert_exporter": "python",
   "pygments_lexer": "ipython3",
   "version": "3.10.12"
  }
 },
 "nbformat": 4,
 "nbformat_minor": 5
}
